{
 "cells": [
  {
   "attachments": {},
   "cell_type": "markdown",
   "metadata": {},
   "source": [
    "Q1. Create a file “people.txt” with the following data:<br>"
   ]
  },
  {
   "cell_type": "code",
   "execution_count": 1,
   "metadata": {},
   "outputs": [],
   "source": [
    "import numpy as np\n",
    "import pandas as pd\n",
    "import matplotlib.pyplot as plt\n",
    "import ruleset\n"
   ]
  },
  {
   "attachments": {},
   "cell_type": "markdown",
   "metadata": {},
   "source": [
    "i) Read the data from the file “people.txt”.<br>"
   ]
  },
  {
   "cell_type": "code",
   "execution_count": 2,
   "metadata": {},
   "outputs": [
    {
     "data": {
      "text/html": [
       "<div>\n",
       "<style scoped>\n",
       "    .dataframe tbody tr th:only-of-type {\n",
       "        vertical-align: middle;\n",
       "    }\n",
       "\n",
       "    .dataframe tbody tr th {\n",
       "        vertical-align: top;\n",
       "    }\n",
       "\n",
       "    .dataframe thead th {\n",
       "        text-align: right;\n",
       "    }\n",
       "</style>\n",
       "<table border=\"1\" class=\"dataframe\">\n",
       "  <thead>\n",
       "    <tr style=\"text-align: right;\">\n",
       "      <th></th>\n",
       "      <th>Age</th>\n",
       "      <th>agegroup</th>\n",
       "      <th>height</th>\n",
       "      <th>status</th>\n",
       "      <th>yearsmarried</th>\n",
       "    </tr>\n",
       "  </thead>\n",
       "  <tbody>\n",
       "    <tr>\n",
       "      <th>0</th>\n",
       "      <td>21</td>\n",
       "      <td>adult</td>\n",
       "      <td>6.0</td>\n",
       "      <td>single</td>\n",
       "      <td>-1</td>\n",
       "    </tr>\n",
       "    <tr>\n",
       "      <th>1</th>\n",
       "      <td>2</td>\n",
       "      <td>child</td>\n",
       "      <td>3.0</td>\n",
       "      <td>married</td>\n",
       "      <td>0</td>\n",
       "    </tr>\n",
       "    <tr>\n",
       "      <th>2</th>\n",
       "      <td>18</td>\n",
       "      <td>adult</td>\n",
       "      <td>5.7</td>\n",
       "      <td>married</td>\n",
       "      <td>20</td>\n",
       "    </tr>\n",
       "    <tr>\n",
       "      <th>3</th>\n",
       "      <td>221</td>\n",
       "      <td>elderly</td>\n",
       "      <td>5.0</td>\n",
       "      <td>widowed</td>\n",
       "      <td>2</td>\n",
       "    </tr>\n",
       "    <tr>\n",
       "      <th>4</th>\n",
       "      <td>34</td>\n",
       "      <td>child</td>\n",
       "      <td>-7.0</td>\n",
       "      <td>married</td>\n",
       "      <td>3</td>\n",
       "    </tr>\n",
       "  </tbody>\n",
       "</table>\n",
       "</div>"
      ],
      "text/plain": [
       "   Age agegroup  height   status  yearsmarried\n",
       "0   21    adult     6.0   single            -1\n",
       "1    2    child     3.0  married             0\n",
       "2   18    adult     5.7  married            20\n",
       "3  221  elderly     5.0  widowed             2\n",
       "4   34    child    -7.0  married             3"
      ]
     },
     "execution_count": 2,
     "metadata": {},
     "output_type": "execute_result"
    }
   ],
   "source": [
    "data = pd.read_csv(\"people.txt\", delimiter=\" \")\n",
    "data\n"
   ]
  },
  {
   "attachments": {},
   "cell_type": "markdown",
   "metadata": {},
   "source": [
    "ii) Create a ruleset E that contain rules to check for the following conditions:<br>\n",
    "1. The age should be in the range 0-150.<br>\n",
    "2. The age should be greater than yearsmarried.<br>\n",
    "3. The status should be married or single or widowed.<br>\n",
    "4. If age is less than 18 the agegroup should be child, if age is between 18 and 65 the agegroup should be adult, if age is more than 65 the agegroup should be elderly.<br>"
   ]
  },
  {
   "cell_type": "code",
   "execution_count": 3,
   "metadata": {},
   "outputs": [],
   "source": [
    "rules = []\n",
    "rules.append(ruleset.checkAge)\n",
    "rules.append(ruleset.checkAgeGroup)\n",
    "rules.append(ruleset.checkAgeYearMarried)\n",
    "rules.append(ruleset.checkStatus)\n"
   ]
  },
  {
   "attachments": {},
   "cell_type": "markdown",
   "metadata": {},
   "source": [
    "iii) Check whether ruleset E is violated by the data in the file people.txt.<br>"
   ]
  },
  {
   "attachments": {},
   "cell_type": "markdown",
   "metadata": {},
   "source": [
    "iv) Summarize the results obtained in part (iii)<br>"
   ]
  },
  {
   "cell_type": "code",
   "execution_count": 4,
   "metadata": {},
   "outputs": [
    {
     "name": "stdout",
     "output_type": "stream",
     "text": [
      "rule1: Checking if age is between 0 and 150\n",
      "violations:1\n",
      "rule2: Checking if age group lies correctly according to age\n",
      "violations:1\n",
      "rule3: Checking if age is greater than years married\n",
      "violations:4\n",
      "rule4: Checking if status column contains values single, married, widowed\n",
      "violations:0\n"
     ]
    }
   ],
   "source": [
    "violations = []\n",
    "# map(function,iterations)  ##map returns iterable object\n",
    "rule = list(map(lambda x: \"rule\"+str(x), range(1, len(rules)+1)))\n",
    "for i in range(len(rules)):\n",
    "    violation, desc = rules[i](data)\n",
    "    print(f\"{rule[i]}: {desc}\\nviolations:{violation}\")\n",
    "    violations.append(violation)\n"
   ]
  },
  {
   "attachments": {},
   "cell_type": "markdown",
   "metadata": {},
   "source": [
    "\n",
    "v) Visualize the results obtained in part (iii)"
   ]
  },
  {
   "cell_type": "code",
   "execution_count": 5,
   "metadata": {},
   "outputs": [
    {
     "data": {
      "image/png": "[encoded data removed]",
      "text/plain": [
       "<Figure size 432x288 with 1 Axes>"
      ]
     },
     "metadata": {
      "needs_background": "light"
     },
     "output_type": "display_data"
    }
   ],
   "source": [
    "fig = plt.figure()\n",
    "ax = fig.add_subplot()\n",
    "ax.bar(rule, violations, 0.3, color='green')  # []\n",
    "plt.ylabel(\"Number of violations\")\n",
    "plt.xlabel(\"rules\")\n",
    "plt.title(\"Plotting violation in rules\")\n",
    "plt.show()\n"
   ]
  }
 ],
 "metadata": {
  "kernelspec": {
   "display_name": "Python 3",
   "language": "python",
   "name": "python3"
  },
  "language_info": {
   "codemirror_mode": {
    "name": "ipython",
    "version": 3
   },
   "file_extension": ".py",
   "mimetype": "text/x-python",
   "name": "python",
   "nbconvert_exporter": "python",
   "pygments_lexer": "ipython3",
   "version": "3.10.2"
  },
  "orig_nbformat": 4,
  "vscode": {
   "interpreter": {
    "hash": "8c3d4d9970fc5c09c50d9318a9c7fbf4d0159e4b28833276f5678ee22bded273"
   }
  }
 },
 "nbformat": 4,
 "nbformat_minor": 2
}
