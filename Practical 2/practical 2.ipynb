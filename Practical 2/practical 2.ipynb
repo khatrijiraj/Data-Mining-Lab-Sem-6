{
 "cells": [
  {
   "attachments": {},
   "cell_type": "markdown",
   "id": "71455647",
   "metadata": {},
   "source": [
    "<h1>Name:- Raj Khatri<br>\n",
    "Roll Number:- AC-1235<br>\n",
    "Subject:- Data Mining<br>\n",
    "Semester:- 6<br>\n",
    "Practical - 2</h1>"
   ]
  },
  {
   "cell_type": "code",
   "execution_count": 66,
   "id": "1b6b55d8",
   "metadata": {},
   "outputs": [],
   "source": [
    "import pandas as pd\n",
    "import matplotlib.pyplot as plt\n",
    "import ruleset\n",
    "import numpy as np\n"
   ]
  },
  {
   "cell_type": "code",
   "execution_count": 67,
   "id": "2dd03a43",
   "metadata": {},
   "outputs": [],
   "source": [
    "dataset = pd.read_csv(\"dirty_iris.csv\")\n"
   ]
  },
  {
   "cell_type": "code",
   "execution_count": 68,
   "id": "605c4ddc",
   "metadata": {},
   "outputs": [
    {
     "data": {
      "text/html": [
       "<div>\n",
       "<style scoped>\n",
       "    .dataframe tbody tr th:only-of-type {\n",
       "        vertical-align: middle;\n",
       "    }\n",
       "\n",
       "    .dataframe tbody tr th {\n",
       "        vertical-align: top;\n",
       "    }\n",
       "\n",
       "    .dataframe thead th {\n",
       "        text-align: right;\n",
       "    }\n",
       "</style>\n",
       "<table border=\"1\" class=\"dataframe\">\n",
       "  <thead>\n",
       "    <tr style=\"text-align: right;\">\n",
       "      <th></th>\n",
       "      <th>Sepal.Length</th>\n",
       "      <th>Sepal.Width</th>\n",
       "      <th>Petal.Length</th>\n",
       "      <th>Petal.Width</th>\n",
       "      <th>Species</th>\n",
       "    </tr>\n",
       "  </thead>\n",
       "  <tbody>\n",
       "    <tr>\n",
       "      <th>0</th>\n",
       "      <td>6.4</td>\n",
       "      <td>3.2</td>\n",
       "      <td>4.5</td>\n",
       "      <td>1.5</td>\n",
       "      <td>versicolor</td>\n",
       "    </tr>\n",
       "    <tr>\n",
       "      <th>1</th>\n",
       "      <td>6.3</td>\n",
       "      <td>3.3</td>\n",
       "      <td>6.0</td>\n",
       "      <td>2.5</td>\n",
       "      <td>virginica</td>\n",
       "    </tr>\n",
       "    <tr>\n",
       "      <th>2</th>\n",
       "      <td>6.2</td>\n",
       "      <td>NaN</td>\n",
       "      <td>5.4</td>\n",
       "      <td>2.3</td>\n",
       "      <td>virginica</td>\n",
       "    </tr>\n",
       "    <tr>\n",
       "      <th>3</th>\n",
       "      <td>5.0</td>\n",
       "      <td>3.4</td>\n",
       "      <td>1.6</td>\n",
       "      <td>0.4</td>\n",
       "      <td>setosa</td>\n",
       "    </tr>\n",
       "    <tr>\n",
       "      <th>4</th>\n",
       "      <td>5.7</td>\n",
       "      <td>2.6</td>\n",
       "      <td>3.5</td>\n",
       "      <td>1.0</td>\n",
       "      <td>versicolor</td>\n",
       "    </tr>\n",
       "    <tr>\n",
       "      <th>5</th>\n",
       "      <td>5.3</td>\n",
       "      <td>NaN</td>\n",
       "      <td>NaN</td>\n",
       "      <td>0.2</td>\n",
       "      <td>setosa</td>\n",
       "    </tr>\n",
       "    <tr>\n",
       "      <th>6</th>\n",
       "      <td>6.4</td>\n",
       "      <td>2.7</td>\n",
       "      <td>5.3</td>\n",
       "      <td>NaN</td>\n",
       "      <td>virginica</td>\n",
       "    </tr>\n",
       "    <tr>\n",
       "      <th>7</th>\n",
       "      <td>5.9</td>\n",
       "      <td>3.0</td>\n",
       "      <td>5.1</td>\n",
       "      <td>1.8</td>\n",
       "      <td>virginica</td>\n",
       "    </tr>\n",
       "    <tr>\n",
       "      <th>8</th>\n",
       "      <td>5.8</td>\n",
       "      <td>2.7</td>\n",
       "      <td>4.1</td>\n",
       "      <td>1.0</td>\n",
       "      <td>versicolor</td>\n",
       "    </tr>\n",
       "    <tr>\n",
       "      <th>9</th>\n",
       "      <td>4.8</td>\n",
       "      <td>3.1</td>\n",
       "      <td>1.6</td>\n",
       "      <td>0.2</td>\n",
       "      <td>setosa</td>\n",
       "    </tr>\n",
       "  </tbody>\n",
       "</table>\n",
       "</div>"
      ],
      "text/plain": [
       "   Sepal.Length  Sepal.Width  Petal.Length  Petal.Width     Species\n",
       "0           6.4          3.2           4.5          1.5  versicolor\n",
       "1           6.3          3.3           6.0          2.5   virginica\n",
       "2           6.2          NaN           5.4          2.3   virginica\n",
       "3           5.0          3.4           1.6          0.4      setosa\n",
       "4           5.7          2.6           3.5          1.0  versicolor\n",
       "5           5.3          NaN           NaN          0.2      setosa\n",
       "6           6.4          2.7           5.3          NaN   virginica\n",
       "7           5.9          3.0           5.1          1.8   virginica\n",
       "8           5.8          2.7           4.1          1.0  versicolor\n",
       "9           4.8          3.1           1.6          0.2      setosa"
      ]
     },
     "execution_count": 68,
     "metadata": {},
     "output_type": "execute_result"
    }
   ],
   "source": [
    "dataset.head(10)\n"
   ]
  },
  {
   "cell_type": "code",
   "execution_count": 69,
   "id": "dc0a4daf",
   "metadata": {},
   "outputs": [
    {
     "name": "stdout",
     "output_type": "stream",
     "text": [
      "Number of complete records:96\n",
      "Percentage of complete records:64.00%\n"
     ]
    }
   ],
   "source": [
    "new_n = dataset.dropna().shape[0]\n",
    "n = dataset.shape[0]\n",
    "print(f\"Number of complete records:{new_n}\")\n",
    "print(\"Percentage of complete records:{:.2f}%\".format(float(new_n*100/n)))\n"
   ]
  },
  {
   "cell_type": "code",
   "execution_count": 70,
   "id": "c9bdf067",
   "metadata": {},
   "outputs": [],
   "source": [
    "dataset.dropna(inplace=True)\n",
    "dataset.reset_index(inplace=True)\n",
    "dataset.replace(['?', np.inf], 'NA', inplace=True)\n"
   ]
  },
  {
   "cell_type": "code",
   "execution_count": 71,
   "id": "5cc5917b",
   "metadata": {},
   "outputs": [
    {
     "data": {
      "text/html": [
       "<div>\n",
       "<style scoped>\n",
       "    .dataframe tbody tr th:only-of-type {\n",
       "        vertical-align: middle;\n",
       "    }\n",
       "\n",
       "    .dataframe tbody tr th {\n",
       "        vertical-align: top;\n",
       "    }\n",
       "\n",
       "    .dataframe thead th {\n",
       "        text-align: right;\n",
       "    }\n",
       "</style>\n",
       "<table border=\"1\" class=\"dataframe\">\n",
       "  <thead>\n",
       "    <tr style=\"text-align: right;\">\n",
       "      <th></th>\n",
       "      <th>index</th>\n",
       "      <th>Sepal.Length</th>\n",
       "      <th>Sepal.Width</th>\n",
       "      <th>Petal.Length</th>\n",
       "      <th>Petal.Width</th>\n",
       "      <th>Species</th>\n",
       "    </tr>\n",
       "  </thead>\n",
       "  <tbody>\n",
       "    <tr>\n",
       "      <th>0</th>\n",
       "      <td>0</td>\n",
       "      <td>6.4</td>\n",
       "      <td>3.2</td>\n",
       "      <td>4.5</td>\n",
       "      <td>1.5</td>\n",
       "      <td>versicolor</td>\n",
       "    </tr>\n",
       "    <tr>\n",
       "      <th>1</th>\n",
       "      <td>1</td>\n",
       "      <td>6.3</td>\n",
       "      <td>3.3</td>\n",
       "      <td>6.0</td>\n",
       "      <td>2.5</td>\n",
       "      <td>virginica</td>\n",
       "    </tr>\n",
       "    <tr>\n",
       "      <th>2</th>\n",
       "      <td>3</td>\n",
       "      <td>5.0</td>\n",
       "      <td>3.4</td>\n",
       "      <td>1.6</td>\n",
       "      <td>0.4</td>\n",
       "      <td>setosa</td>\n",
       "    </tr>\n",
       "    <tr>\n",
       "      <th>3</th>\n",
       "      <td>4</td>\n",
       "      <td>5.7</td>\n",
       "      <td>2.6</td>\n",
       "      <td>3.5</td>\n",
       "      <td>1.0</td>\n",
       "      <td>versicolor</td>\n",
       "    </tr>\n",
       "    <tr>\n",
       "      <th>4</th>\n",
       "      <td>7</td>\n",
       "      <td>5.9</td>\n",
       "      <td>3.0</td>\n",
       "      <td>5.1</td>\n",
       "      <td>1.8</td>\n",
       "      <td>virginica</td>\n",
       "    </tr>\n",
       "  </tbody>\n",
       "</table>\n",
       "</div>"
      ],
      "text/plain": [
       "   index Sepal.Length Sepal.Width Petal.Length Petal.Width     Species\n",
       "0      0          6.4         3.2          4.5         1.5  versicolor\n",
       "1      1          6.3         3.3          6.0         2.5   virginica\n",
       "2      3          5.0         3.4          1.6         0.4      setosa\n",
       "3      4          5.7         2.6          3.5         1.0  versicolor\n",
       "4      7          5.9         3.0          5.1         1.8   virginica"
      ]
     },
     "execution_count": 71,
     "metadata": {},
     "output_type": "execute_result"
    }
   ],
   "source": [
    "dataset.head(5)\n"
   ]
  },
  {
   "cell_type": "code",
   "execution_count": 72,
   "id": "74ca3c50",
   "metadata": {},
   "outputs": [],
   "source": [
    "rules = []\n"
   ]
  },
  {
   "cell_type": "code",
   "execution_count": 73,
   "id": "a58bdadd",
   "metadata": {},
   "outputs": [],
   "source": [
    "rules.append(ruleset.check_species)\n",
    "rules.append(ruleset.check_positive)\n",
    "rules.append(ruleset.check_petal_length)\n",
    "rules.append(ruleset.check_sepal_length)\n",
    "rules.append(ruleset.check_sepal_length2)\n"
   ]
  },
  {
   "cell_type": "code",
   "execution_count": 74,
   "id": "61ae4bec",
   "metadata": {},
   "outputs": [
    {
     "name": "stdout",
     "output_type": "stream",
     "text": [
      "rule1: Checking if all species consist of setosa, versicolor and virginica\n",
      "violations:0\n",
      "rule2: Checking if there all the length values are greater than 0\n",
      "violations:1\n",
      "rule3: Checking if petal length is at least twice of petal width\n",
      "violations:2\n",
      "rule4: Checking if all sepal lengths are below 30 cm\n",
      "violations:1\n",
      "rule5: Checking if sepal length is more than petal length\n",
      "violations:1\n"
     ]
    }
   ],
   "source": [
    "violations = []\n",
    "rule = list(map(lambda x: \"rule\"+str(x), range(1, len(rules)+1)))\n",
    "for i in range(len(rules)):\n",
    "    violation, desc = rules[i](dataset)\n",
    "    print(f\"{rule[i]}: {desc}\\nviolations:{violation}\")\n",
    "    violations.append(violation)\n"
   ]
  },
  {
   "cell_type": "code",
   "execution_count": 75,
   "id": "000bb1ea",
   "metadata": {},
   "outputs": [
    {
     "data": {
      "image/png": "[encoded data removed]",
      "text/plain": [
       "<Figure size 432x288 with 1 Axes>"
      ]
     },
     "metadata": {},
     "output_type": "display_data"
    }
   ],
   "source": [
    "fig = plt.figure()\n",
    "fig.patch.set_facecolor('white')\n",
    "ax = fig.add_subplot()\n",
    "ax.bar(rule, violations, 0.3, color='blue')\n",
    "plt.ylabel(\"Number of violations\")\n",
    "plt.xlabel(\"rules\")\n",
    "plt.title(\"Plotting violation in rules\")\n",
    "plt.show()\n"
   ]
  },
  {
   "cell_type": "code",
   "execution_count": 76,
   "id": "2b404e81",
   "metadata": {},
   "outputs": [
    {
     "data": {
      "image/png": "[encoded data removed]",
      "text/plain": [
       "<Figure size 432x288 with 1 Axes>"
      ]
     },
     "metadata": {},
     "output_type": "display_data"
    }
   ],
   "source": [
    "fig = plt.figure()\n",
    "fig.patch.set_facecolor('white')\n",
    "ax = fig.add_subplot()\n",
    "ax.boxplot(dataset[\"Sepal.Length\"][dataset[\"Sepal.Length\"] != 'NA'])\n",
    "plt.show()\n"
   ]
  },
  {
   "attachments": {},
   "cell_type": "markdown",
   "id": "06cadd1a",
   "metadata": {},
   "source": [
    "<h3>Ruleset.py</h3>\n",
    "<pre>\n",
    "def check_species(dataset):\n",
    "    n = dataset.shape[0]\n",
    "    species = dataset[\"Species\"][dataset[\"Species\"] != 'NA']\n",
    "    correct_n = species[species.isin(\n",
    "        [\"setosa\", \"versicolor\", \"virginica\"])].shape[0]\n",
    "    return n-correct_n, \"Checking if all species consist of setosa, versicolor and virginica\"\n",
    "\n",
    "\n",
    "def check_positive(dataset):\n",
    "    violation_n = 0\n",
    "    for i in dataset.values:\n",
    "        for j in i:\n",
    "            if isinstance(j, float):\n",
    "                if j < 0:\n",
    "                    violation_n += 1\n",
    "    return violation_n, \"Checking if there all the length values are greater than 0\"\n",
    "\n",
    "\n",
    "def check_petal_length(dataset):\n",
    "    n = dataset.shape[0]\n",
    "    correct_n = 0\n",
    "    for i in range(n):\n",
    "        if dataset[\"Petal.Width\"][i] == 'NA' or dataset[\"Petal.Length\"][i] == 'NA':\n",
    "            continue\n",
    "        elif dataset[\"Petal.Width\"][i]*2 > dataset[\"Petal.Length\"][i]:\n",
    "            continue\n",
    "        else:\n",
    "            correct_n += 1\n",
    "    return n-correct_n, \"Checking if petal length is at least twice of petal width\"\n",
    "\n",
    "\n",
    "def check_sepal_length(dataset):\n",
    "    n = dataset.shape[0]\n",
    "    sl = dataset[\"Sepal.Length\"][dataset[\"Sepal.Length\"] != 'NA']\n",
    "    correct_n = sl[sl <= 30].shape[0]\n",
    "    return n-correct_n, \"Checking if all sepal lengths are below 30 cm\"\n",
    "\n",
    "\n",
    "def check_sepal_length2(dataset):\n",
    "    n = dataset.shape[0]\n",
    "    correct_n = 0\n",
    "    for i in range(n):\n",
    "        if dataset[\"Sepal.Length\"][i] == 'NA' or dataset[\"Petal.Length\"][i] == 'NA':\n",
    "            continue\n",
    "        elif dataset[\"Petal.Length\"][i] >= dataset[\"Sepal.Length\"][i]:\n",
    "            continue\n",
    "        else:\n",
    "            correct_n += 1\n",
    "    return n-correct_n, \"Checking if sepal length is more than petal length\"\n",
    "\n",
    "</pre>"
   ]
  }
 ],
 "metadata": {
  "kernelspec": {
   "display_name": "Python 3",
   "language": "python",
   "name": "python3"
  },
  "language_info": {
   "codemirror_mode": {
    "name": "ipython",
    "version": 3
   },
   "file_extension": ".py",
   "mimetype": "text/x-python",
   "name": "python",
   "nbconvert_exporter": "python",
   "pygments_lexer": "ipython3",
   "version": "3.10.2"
  },
  "vscode": {
   "interpreter": {
    "hash": "8c3d4d9970fc5c09c50d9318a9c7fbf4d0159e4b28833276f5678ee22bded273"
   }
  }
 },
 "nbformat": 4,
 "nbformat_minor": 5
}
