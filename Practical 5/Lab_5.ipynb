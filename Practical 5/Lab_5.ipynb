{
 "cells": [
  {
   "attachments": {},
   "cell_type": "markdown",
   "metadata": {},
   "source": [
    "<h1>Name:- Raj Khatri<br>\n",
    "Roll Number:- AC-1235<br>\n",
    "Subject:- Data Mining<br>\n",
    "Semester:- 6<br>\n",
    "Practical - 5</h1>"
   ]
  },
  {
   "cell_type": "code",
   "execution_count": 145,
   "metadata": {},
   "outputs": [],
   "source": [
    "import numpy as np\n",
    "import pandas as pd\n",
    "from sklearn.model_selection import train_test_split\n",
    "from sklearn.naive_bayes import GaussianNB\n",
    "from sklearn.metrics import confusion_matrix, accuracy_score, f1_score, precision_score, recall_score\n",
    "from sklearn.neighbors import KNeighborsClassifier\n",
    "from sklearn import tree\n",
    "from sklearn.tree import DecisionTreeClassifier\n",
    "import matplotlib.pyplot as plt\n",
    "from sklearn.preprocessing import StandardScaler\n"
   ]
  },
  {
   "cell_type": "code",
   "execution_count": 146,
   "metadata": {},
   "outputs": [],
   "source": [
    "df = pd.read_csv(\"BreastCancer.csv\")\n"
   ]
  },
  {
   "cell_type": "code",
   "execution_count": 147,
   "metadata": {},
   "outputs": [],
   "source": [
    "df.drop(columns=\"Unnamed: 32\", inplace=True)\n",
    "df.drop(columns=\"id\", inplace=True)\n"
   ]
  },
  {
   "cell_type": "code",
   "execution_count": 148,
   "metadata": {},
   "outputs": [
    {
     "data": {
      "text/plain": [
       "0"
      ]
     },
     "execution_count": 148,
     "metadata": {},
     "output_type": "execute_result"
    }
   ],
   "source": [
    "df.isna().sum().sum()\n"
   ]
  },
  {
   "cell_type": "code",
   "execution_count": 149,
   "metadata": {},
   "outputs": [],
   "source": [
    "X = df.drop(columns=\"diagnosis\")\n",
    "y = df.diagnosis\n"
   ]
  },
  {
   "attachments": {},
   "cell_type": "markdown",
   "metadata": {},
   "source": [
    "#### NAIVE BAYES"
   ]
  },
  {
   "cell_type": "code",
   "execution_count": 150,
   "metadata": {},
   "outputs": [],
   "source": [
    "accuracy_list = []\n"
   ]
  },
  {
   "cell_type": "code",
   "execution_count": 151,
   "metadata": {},
   "outputs": [],
   "source": [
    "def Naive_Bayes(X_train, X_test, y_train, y_test):\n",
    "    classifier = GaussianNB()\n",
    "    classifier.fit(X_train, y_train)\n",
    "    y_pred = classifier.predict(X_test)\n",
    "    naive_accuracy = accuracy_score(y_test, y_pred)*100\n",
    "    accuracy_list.append(naive_accuracy)\n",
    "    print(\"Accuracy using Naive Bayes: \", naive_accuracy)\n"
   ]
  },
  {
   "attachments": {},
   "cell_type": "markdown",
   "metadata": {},
   "source": [
    "#### K-NEAREST NEIGHBOR"
   ]
  },
  {
   "cell_type": "code",
   "execution_count": 152,
   "metadata": {},
   "outputs": [],
   "source": [
    "def KNN(X_train, X_test, y_train, y_test):\n",
    "    classifier = KNeighborsClassifier(n_neighbors=5, metric='minkowski', p=2)\n",
    "    classifier.fit(X_train, y_train)\n",
    "    y_pred = classifier.predict(X_test)\n",
    "    knn_accuracy = accuracy_score(y_test, y_pred)*100\n",
    "    accuracy_list.append(knn_accuracy)\n",
    "    print(\"Accuracy using KNN: \", knn_accuracy)\n"
   ]
  },
  {
   "attachments": {},
   "cell_type": "markdown",
   "metadata": {},
   "source": [
    "#### DECISION TREE"
   ]
  },
  {
   "cell_type": "code",
   "execution_count": 153,
   "metadata": {},
   "outputs": [],
   "source": [
    "def decision_tree(X_train, X_test, y_train, y_test):\n",
    "    dtree = DecisionTreeClassifier()\n",
    "    dtree = dtree.fit(X_train, y_train)\n",
    "    y_pred = dtree.predict(X_test)\n",
    "    dec_accuracy = accuracy_score(y_test, y_pred)*100\n",
    "    accuracy_list.append(dec_accuracy)\n",
    "    print(\"Accuracy using decision tree: \", dec_accuracy)\n"
   ]
  },
  {
   "attachments": {},
   "cell_type": "markdown",
   "metadata": {},
   "source": [
    "#### HOLD-OUT METHOD\n",
    "##### Training set = 75% Test set = 25%"
   ]
  },
  {
   "cell_type": "code",
   "execution_count": 154,
   "metadata": {},
   "outputs": [
    {
     "name": "stdout",
     "output_type": "stream",
     "text": [
      "Accuracy using Naive Bayes:  93.7062937062937\n",
      "Accuracy using KNN:  93.7062937062937\n",
      "Accuracy using decision tree:  88.81118881118881\n"
     ]
    }
   ],
   "source": [
    "X_train_75, X_test_25, y_train_75, y_test_25 = train_test_split(\n",
    "    X, y, test_size=0.25, random_state=0)\n",
    "\n",
    "# CALCULATING ACCURACY USING NAIVE BAYES\n",
    "Naive_Bayes(X_train_75, X_test_25, y_train_75, y_test_25)\n",
    "\n",
    "# CALCULATING ACCURACY USING KNN\n",
    "KNN(X_train_75, X_test_25, y_train_75, y_test_25)\n",
    "\n",
    "# CALCULATING ACCURACY USING decision tree\n",
    "decision_tree(X_train_75, X_test_25, y_train_75, y_test_25)\n"
   ]
  },
  {
   "cell_type": "code",
   "execution_count": 155,
   "metadata": {},
   "outputs": [
    {
     "data": {
      "image/png": "[encoded data removed]",
      "text/plain": [
       "<Figure size 432x288 with 1 Axes>"
      ]
     },
     "metadata": {
      "needs_background": "light"
     },
     "output_type": "display_data"
    }
   ],
   "source": [
    "algo = ['Naive Bayes', 'KNN', 'Decision Tree']\n",
    "plt.bar(algo, accuracy_list)\n",
    "plt.ylabel(\"Accuracy\")\n",
    "plt.title(\"Comapring accuracy when data is split using hold-out method into 75%-25%\")\n",
    "accuracy_list.clear()\n"
   ]
  },
  {
   "attachments": {},
   "cell_type": "markdown",
   "metadata": {},
   "source": [
    "##### Training set = 66% Test set = 33%"
   ]
  },
  {
   "cell_type": "code",
   "execution_count": 156,
   "metadata": {},
   "outputs": [
    {
     "name": "stdout",
     "output_type": "stream",
     "text": [
      "Accuracy using Naive Bayes:  92.02127659574468\n",
      "Accuracy using KNN:  94.68085106382979\n",
      "Accuracy using decision tree:  93.08510638297872\n"
     ]
    }
   ],
   "source": [
    "X_train_66, X_test_33, y_train_66, y_test_33 = train_test_split(\n",
    "    X, y, test_size=0.33, random_state=0)\n",
    "\n",
    "# CALCULATING ACCURACY USING NAIVE BAYES\n",
    "Naive_Bayes(X_train_66, X_test_33, y_train_66, y_test_33)\n",
    "\n",
    "# CALCULATING ACCURACY USING KNN\n",
    "KNN(X_train_66, X_test_33, y_train_66, y_test_33)\n",
    "\n",
    "# CALCULATING ACCURACY USING decision tree\n",
    "decision_tree(X_train_66, X_test_33, y_train_66, y_test_33)\n"
   ]
  },
  {
   "cell_type": "code",
   "execution_count": 157,
   "metadata": {},
   "outputs": [
    {
     "data": {
      "image/png": "[encoded data removed]",
      "text/plain": [
       "<Figure size 432x288 with 1 Axes>"
      ]
     },
     "metadata": {
      "needs_background": "light"
     },
     "output_type": "display_data"
    }
   ],
   "source": [
    "algo = ['Naive Bayes', 'KNN', 'Decision Tree']\n",
    "plt.bar(algo, accuracy_list)\n",
    "plt.ylabel(\"Accuracy\")\n",
    "plt.title(\"Comapring accuracy when data is split using hold-out method into 66%-33%\")\n",
    "accuracy_list.clear()\n"
   ]
  },
  {
   "attachments": {},
   "cell_type": "markdown",
   "metadata": {},
   "source": [
    "#### RANDOM SUBSAMPLING METHOD\n",
    "##### Training set = 75% Test set = 25%"
   ]
  },
  {
   "cell_type": "code",
   "execution_count": 158,
   "metadata": {},
   "outputs": [
    {
     "name": "stdout",
     "output_type": "stream",
     "text": [
      "Accuracy using Naive Bayes:  93.7062937062937\n",
      "Accuracy using KNN:  93.7062937062937\n",
      "Accuracy using decision tree:  86.7132867132867\n"
     ]
    }
   ],
   "source": [
    "k = 5  # Count of random selection of samples\n",
    "for i in range(k):\n",
    "    X_train_75, X_test_25, y_train_75, y_test_25 = train_test_split(\n",
    "        X, y, test_size=0.25, random_state=0)\n",
    "\n",
    "# CALCULATING ACCURACY USING NAIVE BAYES\n",
    "Naive_Bayes(X_train_75, X_test_25, y_train_75, y_test_25)\n",
    "\n",
    "# CALCULATING ACCURACY USING KNN\n",
    "KNN(X_train_75, X_test_25, y_train_75, y_test_25)\n",
    "\n",
    "# CALCULATING ACCURACY USING decision tree\n",
    "decision_tree(X_train_75, X_test_25, y_train_75, y_test_25)\n"
   ]
  },
  {
   "cell_type": "code",
   "execution_count": 159,
   "metadata": {},
   "outputs": [
    {
     "data": {
      "image/png": "[encoded data removed]",
      "text/plain": [
       "<Figure size 432x288 with 1 Axes>"
      ]
     },
     "metadata": {
      "needs_background": "light"
     },
     "output_type": "display_data"
    }
   ],
   "source": [
    "algo = ['Naive Bayes', 'KNN', 'Decision Tree']\n",
    "plt.bar(algo, accuracy_list)\n",
    "plt.ylabel(\"Accuracy\")\n",
    "plt.title(\n",
    "    \"Comapring accuracy when data is split using random-subsampling method into 75%-25%\")\n",
    "accuracy_list.clear()\n"
   ]
  },
  {
   "attachments": {},
   "cell_type": "markdown",
   "metadata": {},
   "source": [
    "##### Training set = 66% Test set = 33%"
   ]
  },
  {
   "cell_type": "code",
   "execution_count": 160,
   "metadata": {},
   "outputs": [
    {
     "name": "stdout",
     "output_type": "stream",
     "text": [
      "Accuracy using Naive Bayes:  92.02127659574468\n",
      "Accuracy using KNN:  94.68085106382979\n",
      "Accuracy using decision tree:  91.48936170212765\n"
     ]
    }
   ],
   "source": [
    "k = 5  # Count of random selection of samples\n",
    "for i in range(k):\n",
    "    X_train_66, X_test_33, y_train_66, y_test_33 = train_test_split(\n",
    "        X, y, test_size=0.33, random_state=0)\n",
    "\n",
    "# CALCULATING ACCURACY USING NAIVE BAYES\n",
    "Naive_Bayes(X_train_66, X_test_33, y_train_66, y_test_33)\n",
    "\n",
    "# CALCULATING ACCURACY USING KNN\n",
    "KNN(X_train_66, X_test_33, y_train_66, y_test_33)\n",
    "\n",
    "# CALCULATING ACCURACY USING decision tree\n",
    "decision_tree(X_train_66, X_test_33, y_train_66, y_test_33)\n"
   ]
  },
  {
   "cell_type": "code",
   "execution_count": 161,
   "metadata": {},
   "outputs": [
    {
     "data": {
      "image/png": "[encoded data removed]",
      "text/plain": [
       "<Figure size 432x288 with 1 Axes>"
      ]
     },
     "metadata": {
      "needs_background": "light"
     },
     "output_type": "display_data"
    }
   ],
   "source": [
    "algo = ['Naive Bayes', 'KNN', 'Decision Tree']\n",
    "plt.bar(algo, accuracy_list)\n",
    "plt.ylabel(\"Accuracy\")\n",
    "plt.title(\n",
    "    \"Comapring accuracy when data is split using random-subsampling method into 66%-33%\")\n",
    "accuracy_list.clear()\n"
   ]
  },
  {
   "attachments": {},
   "cell_type": "markdown",
   "metadata": {},
   "source": [
    "5.3 Data is scaled to standard format"
   ]
  },
  {
   "cell_type": "code",
   "execution_count": 162,
   "metadata": {},
   "outputs": [
    {
     "name": "stdout",
     "output_type": "stream",
     "text": [
      "[[-0.64350608 -0.1732254  -0.57145922 ...  0.6380906   3.01691484\n",
      "   3.06757596]\n",
      " [-0.6290611   0.40451472 -0.63604484 ... -0.4871051   0.28613228\n",
      "  -0.59251465]\n",
      " [ 2.60661367  0.09108486  2.53913488 ...  1.76062848  0.01564551\n",
      "  -0.63312744]\n",
      " ...\n",
      " [-0.86306972 -1.10649789 -0.89522606 ... -1.10575167 -1.61375381\n",
      "  -0.61336987]\n",
      " [-0.46438837 -1.54623531 -0.53371438 ... -1.35996429 -1.0015143\n",
      "  -0.769784  ]\n",
      " [ 0.93388537 -0.55214806  0.89933133 ...  1.12431523  0.3881722\n",
      "  -0.17431267]]\n"
     ]
    }
   ],
   "source": [
    "object = StandardScaler()\n",
    "# standardization\n",
    "scale = object.fit_transform(X_train)\n",
    "print(scale)\n"
   ]
  }
 ],
 "metadata": {
  "kernelspec": {
   "display_name": "Python 3",
   "language": "python",
   "name": "python3"
  },
  "language_info": {
   "codemirror_mode": {
    "name": "ipython",
    "version": 3
   },
   "file_extension": ".py",
   "mimetype": "text/x-python",
   "name": "python",
   "nbconvert_exporter": "python",
   "pygments_lexer": "ipython3",
   "version": "3.10.0"
  },
  "orig_nbformat": 4
 },
 "nbformat": 4,
 "nbformat_minor": 2
}
